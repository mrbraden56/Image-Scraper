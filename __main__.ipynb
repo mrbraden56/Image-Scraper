{
 "cells": [
  {
   "cell_type": "code",
   "execution_count": null,
   "metadata": {},
   "outputs": [],
   "source": [
    "from ipynb.fs.defs.Web_Scraper import Webscrape\n",
    "\n",
    "def main():\n",
    "    \"\"\"Main func.\"\"\"\n",
    "    url='Enter google images link'\n",
    "    filename='Enter filename where you want pictures stored'\n",
    "    scrape=Webscrape(url, filename)\n",
    "    scrape.run()\n",
    "    \n",
    "if __name__ == \"__main__\":\n",
    "    main()"
   ]
  }
 ],
 "metadata": {
  "kernelspec": {
   "display_name": "Python 3",
   "language": "python",
   "name": "python3"
  },
  "language_info": {
   "codemirror_mode": {
    "name": "ipython",
    "version": 3
   },
   "file_extension": ".py",
   "mimetype": "text/x-python",
   "name": "python",
   "nbconvert_exporter": "python",
   "pygments_lexer": "ipython3",
   "version": "3.8.3"
  }
 },
 "nbformat": 4,
 "nbformat_minor": 4
}
